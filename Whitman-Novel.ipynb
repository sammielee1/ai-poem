{
 "cells": [
  {
   "cell_type": "markdown",
   "metadata": {},
   "source": [
    "# Walt Whitman Poetry Generator"
   ]
  },
  {
   "cell_type": "code",
   "execution_count": 1,
   "metadata": {},
   "outputs": [],
   "source": [
    "%reload_ext autoreload\n",
    "%autoreload 2\n",
    "%matplotlib inline"
   ]
  },
  {
   "cell_type": "code",
   "execution_count": 2,
   "metadata": {},
   "outputs": [],
   "source": [
    "from fastai import *\n",
    "from fastai.text import *"
   ]
  },
  {
   "cell_type": "code",
   "execution_count": null,
   "metadata": {},
   "outputs": [],
   "source": [
    "path = untar_data(URLs.whitman)\n",
    "path.ls()"
   ]
  },
  {
   "cell_type": "code",
   "execution_count": 4,
   "metadata": {},
   "outputs": [
    {
     "data": {
      "text/html": [
       "<div>\n",
       "<style scoped>\n",
       "    .dataframe tbody tr th:only-of-type {\n",
       "        vertical-align: middle;\n",
       "    }\n",
       "\n",
       "    .dataframe tbody tr th {\n",
       "        vertical-align: top;\n",
       "    }\n",
       "\n",
       "    .dataframe thead th {\n",
       "        text-align: right;\n",
       "    }\n",
       "</style>\n",
       "<table border=\"1\" class=\"dataframe\">\n",
       "  <thead>\n",
       "    <tr style=\"text-align: right;\">\n",
       "      <th></th>\n",
       "      <th>0</th>\n",
       "    </tr>\n",
       "  </thead>\n",
       "  <tbody>\n",
       "    <tr>\n",
       "      <th>0</th>\n",
       "      <td>LEAVES OF GRASS</td>\n",
       "    </tr>\n",
       "    <tr>\n",
       "      <th>1</th>\n",
       "      <td>By Walt Whitman</td>\n",
       "    </tr>\n",
       "    <tr>\n",
       "      <th>2</th>\n",
       "      <td>Come, said my soul,</td>\n",
       "    </tr>\n",
       "    <tr>\n",
       "      <th>3</th>\n",
       "      <td>Such verses for my Body let us write, (for we ...</td>\n",
       "    </tr>\n",
       "    <tr>\n",
       "      <th>4</th>\n",
       "      <td>That should I after return,</td>\n",
       "    </tr>\n",
       "  </tbody>\n",
       "</table>\n",
       "</div>"
      ],
      "text/plain": [
       "                                                   0\n",
       "0                                    LEAVES OF GRASS\n",
       "1                                    By Walt Whitman\n",
       "2                                Come, said my soul,\n",
       "3  Such verses for my Body let us write, (for we ...\n",
       "4                        That should I after return,"
      ]
     },
     "execution_count": 4,
     "metadata": {},
     "output_type": "execute_result"
    }
   ],
   "source": [
    "df = pd.read_fwf(path/'whitman.txt', header=None);\n",
    "df.head()"
   ]
  },
  {
   "cell_type": "code",
   "execution_count": 6,
   "metadata": {},
   "outputs": [
    {
     "data": {
      "text/html": [
       "<div>\n",
       "<style scoped>\n",
       "    .dataframe tbody tr th:only-of-type {\n",
       "        vertical-align: middle;\n",
       "    }\n",
       "\n",
       "    .dataframe tbody tr th {\n",
       "        vertical-align: top;\n",
       "    }\n",
       "\n",
       "    .dataframe thead th {\n",
       "        text-align: right;\n",
       "    }\n",
       "</style>\n",
       "<table border=\"1\" class=\"dataframe\">\n",
       "  <thead>\n",
       "    <tr style=\"text-align: right;\">\n",
       "      <th></th>\n",
       "      <th>text</th>\n",
       "    </tr>\n",
       "  </thead>\n",
       "  <tbody>\n",
       "    <tr>\n",
       "      <th>0</th>\n",
       "      <td>LEAVES OF GRASS</td>\n",
       "    </tr>\n",
       "    <tr>\n",
       "      <th>1</th>\n",
       "      <td>By Walt Whitman</td>\n",
       "    </tr>\n",
       "    <tr>\n",
       "      <th>2</th>\n",
       "      <td>Come, said my soul,</td>\n",
       "    </tr>\n",
       "    <tr>\n",
       "      <th>3</th>\n",
       "      <td>Such verses for my Body let us write, (for we ...</td>\n",
       "    </tr>\n",
       "    <tr>\n",
       "      <th>4</th>\n",
       "      <td>That should I after return,</td>\n",
       "    </tr>\n",
       "  </tbody>\n",
       "</table>\n",
       "</div>"
      ],
      "text/plain": [
       "                                                text\n",
       "0                                    LEAVES OF GRASS\n",
       "1                                    By Walt Whitman\n",
       "2                                Come, said my soul,\n",
       "3  Such verses for my Body let us write, (for we ...\n",
       "4                        That should I after return,"
      ]
     },
     "execution_count": 6,
     "metadata": {},
     "output_type": "execute_result"
    }
   ],
   "source": [
    "df.columns = [\"text\"]\n",
    "df.head()"
   ]
  },
  {
   "cell_type": "code",
   "execution_count": 7,
   "metadata": {},
   "outputs": [
    {
     "data": {
      "text/html": [
       "<div>\n",
       "<style scoped>\n",
       "    .dataframe tbody tr th:only-of-type {\n",
       "        vertical-align: middle;\n",
       "    }\n",
       "\n",
       "    .dataframe tbody tr th {\n",
       "        vertical-align: top;\n",
       "    }\n",
       "\n",
       "    .dataframe thead th {\n",
       "        text-align: right;\n",
       "    }\n",
       "</style>\n",
       "<table border=\"1\" class=\"dataframe\">\n",
       "  <thead>\n",
       "    <tr style=\"text-align: right;\">\n",
       "      <th></th>\n",
       "      <th>text</th>\n",
       "    </tr>\n",
       "  </thead>\n",
       "  <tbody>\n",
       "    <tr>\n",
       "      <th>0</th>\n",
       "      <td>LEAVES OF GRASS</td>\n",
       "    </tr>\n",
       "    <tr>\n",
       "      <th>1</th>\n",
       "      <td>By Walt Whitman</td>\n",
       "    </tr>\n",
       "    <tr>\n",
       "      <th>2</th>\n",
       "      <td>Come, said my soul,</td>\n",
       "    </tr>\n",
       "    <tr>\n",
       "      <th>3</th>\n",
       "      <td>Such verses for my Body let us write, (for we ...</td>\n",
       "    </tr>\n",
       "    <tr>\n",
       "      <th>4</th>\n",
       "      <td>That should I after return,</td>\n",
       "    </tr>\n",
       "  </tbody>\n",
       "</table>\n",
       "</div>"
      ],
      "text/plain": [
       "                                                text\n",
       "0                                    LEAVES OF GRASS\n",
       "1                                    By Walt Whitman\n",
       "2                                Come, said my soul,\n",
       "3  Such verses for my Body let us write, (for we ...\n",
       "4                        That should I after return,"
      ]
     },
     "execution_count": 7,
     "metadata": {},
     "output_type": "execute_result"
    }
   ],
   "source": [
    "df = df.dropna(subset=[\"text\"]);\n",
    "df.head()"
   ]
  },
  {
   "cell_type": "code",
   "execution_count": 8,
   "metadata": {},
   "outputs": [
    {
     "data": {
      "text/plain": [
       "17413"
      ]
     },
     "execution_count": 8,
     "metadata": {},
     "output_type": "execute_result"
    }
   ],
   "source": [
    "len(df)"
   ]
  },
  {
   "cell_type": "code",
   "execution_count": 77,
   "metadata": {},
   "outputs": [],
   "source": [
    "data_lm = (TextList.from_df(df, Path(path), col=['text']) \n",
    "          .random_split_by_pct(0.1)\n",
    "          .label_for_lm() # this does the tokenization and numericalization\n",
    "          .databunch(bs=10))\n",
    "#data_lm.save('data_lm_whitman');"
   ]
  },
  {
   "cell_type": "code",
   "execution_count": 13,
   "metadata": {},
   "outputs": [
    {
     "data": {
      "text/html": [
       "<table>  <col width='5%'>  <col width='95%'>  <tr>\n",
       "    <th>idx</th>\n",
       "    <th>text</th>\n",
       "  </tr>\n",
       "  <tr>\n",
       "    <th>0</th>\n",
       "    <th>xxbos i have travel'd a long way merely to look on you to touch you , xxbos looks at the oats and rye , xxbos xxmaj nothing in the xxunk from the xxmaj state xxunk or xxmaj xxunk xxbos xxmaj xxunk me o tongue and lips for xxmaj nature 's sake , souvenirs of xxunk summer , xxbos xxmaj xxunk here and everywhere , eternal float of xxunk ! xxbos</th>\n",
       "  </tr>\n",
       "  <tr>\n",
       "    <th>1</th>\n",
       "    <th>able , active , receptive , without shame or the need of shame . ) xxbos xxmaj and no man understands any greatness or goodness but his own , or xxbos triumphantly moving , and grander heaving in sight , xxbos should you not speak to me ? xxbos with iron and stone xxunk , ceaseless vehicles , and commerce , xxbos xxmaj the xxunk xxunk , xxunk , sawing</th>\n",
       "  </tr>\n",
       "  <tr>\n",
       "    <th>2</th>\n",
       "    <th>, i xxunk with bare feet , they are xxunk by the xxunk waves , xxbos a word i give to remain in your memories and xxunk , xxbos xxmaj to the free skies unpent and glad and strong . xxbos xxmaj as at thy portals also death , xxbos a call in the midst of the crowd , xxbos xxmaj the voyage balk'd , the course xxunk , lost</th>\n",
       "  </tr>\n",
       "  <tr>\n",
       "    <th>3</th>\n",
       "    <th>strikes out with xxbos xxmaj no xxunk exists without being from some long previous xxbos xxmaj you shall possess the good of the earth and sun , ( there are millions xxbos xxmaj the xxunk xxunk and xxunk , the large xxunk , xxbos a child said xxmaj what is the grass ? fetching it to me with full hands ; xxbos xxmaj nor rhyme , nor the xxunk ,</th>\n",
       "  </tr>\n",
       "  <tr>\n",
       "    <th>4</th>\n",
       "    <th>, ' mid public , xxunk haunts , in solitude , xxbos xxmaj perfume from battle - fields rising , up from the xxunk arising . xxbos xxmaj in the xxmaj mannahatta , streets , piers , shipping , store - houses , and the xxbos xxmaj your dreams o years , how they penetrate through me ! ( i know not xxbos xxmaj as for an hour carrying us</th>\n",
       "  </tr>\n",
       "  <tr>\n",
       "    <th>5</th>\n",
       "    <th>in that alone , xxbos end to xxunk it , xxbos xxmaj in xxmaj virginia , the xxunk 's son returning after a long absence , joyfully xxbos xxmaj their postures bringing their weapons downward on the bearers , xxbos xxmaj fresh come , to a new world indeed , yet long prepared , xxbos and not xxunk , that which i xxunk at ; xxbos ( xxmaj there without</th>\n",
       "  </tr>\n",
       "  <tr>\n",
       "    <th>6</th>\n",
       "    <th>xxmaj the mocking - bird , the xxmaj american mimic , singing all the forenoon , singing xxbos xxup book xxup xxunk . xxup songs xxup of xxup parting xxbos bride , xxbos voices of children and women , xxbos xxmaj pioneers ! o pioneers ! xxbos xxmaj thy xxunk woes and pangs have quell'd them all , xxbos xxmaj those that look xxunk in the faces of xxmaj presidents</th>\n",
       "  </tr>\n",
       "  <tr>\n",
       "    <th>7</th>\n",
       "    <th>streets , xxbos or lack of money , or xxunk or xxunk , xxbos old , the incessant war ? ) xxbos it is , xxbos xxmaj of life or death , or soldier 's wound , of country 's loss or xxunk , xxbos xxmaj shall beam immortal . xxbos xxmaj by many a xxunk of heat and cold convuls'd , ( by these thyself xxunk , ) xxbos</th>\n",
       "  </tr>\n",
       "  <tr>\n",
       "    <th>8</th>\n",
       "    <th>and xxmaj state , xxmaj north , xxmaj south , item and aggregate , xxbos xxmaj its sun , and its again , all swing around us . xxbos xxmaj women and men in wisdom innocence and health -- all joy ! xxbos from the ground , xxunk the gray débris , xxbos 11 xxbos i am an xxunk of things accomplish'd , and i an xxunk of things to</th>\n",
       "  </tr>\n",
       "  <tr>\n",
       "    <th>9</th>\n",
       "    <th>nestling close , always xxunk , xxbos xxmaj and then the song of each xxunk of these xxmaj states . xxbos xxmaj eternal i rise impalpable out of the land and the xxunk sea , xxbos xxmaj or down from the great lakes or in xxmaj pennsylvania , or on deck along xxbos i do not trouble my spirit to xxunk itself or be understood , xxbos xxmaj xxunk xxmaj</th>\n",
       "  </tr>\n",
       "</table>\n"
      ],
      "text/plain": [
       "<IPython.core.display.HTML object>"
      ]
     },
     "metadata": {},
     "output_type": "display_data"
    }
   ],
   "source": [
    "data_lm.show_batch(rows=10)"
   ]
  },
  {
   "cell_type": "code",
   "execution_count": 57,
   "metadata": {},
   "outputs": [],
   "source": [
    "learn = language_model_learner(data_lm, pretrained_model=URLs.WT103, drop_mult=0.3)"
   ]
  },
  {
   "cell_type": "code",
   "execution_count": 17,
   "metadata": {},
   "outputs": [
    {
     "name": "stdout",
     "output_type": "stream",
     "text": [
      "LR Finder is complete, type {learner_name}.recorder.plot() to see the graph.\n"
     ]
    }
   ],
   "source": [
    "learn.lr_find()"
   ]
  },
  {
   "cell_type": "code",
   "execution_count": 18,
   "metadata": {},
   "outputs": [
    {
     "data": {
      "image/png": "[encoded data removed]",
      "text/plain": [
       "<Figure size 432x288 with 1 Axes>"
      ]
     },
     "metadata": {
      "needs_background": "light"
     },
     "output_type": "display_data"
    }
   ],
   "source": [
    "learn.recorder.plot(skip_end=15)"
   ]
  },
  {
   "cell_type": "code",
   "execution_count": 59,
   "metadata": {},
   "outputs": [
    {
     "data": {
      "text/html": [
       "Total time: 00:12 <p><table style='width:300px; margin-bottom:10px'>\n",
       "  <tr>\n",
       "    <th>epoch</th>\n",
       "    <th>train_loss</th>\n",
       "    <th>valid_loss</th>\n",
       "    <th>accuracy</th>\n",
       "  </tr>\n",
       "  <tr>\n",
       "    <th>1</th>\n",
       "    <th>0.845031</th>\n",
       "    <th>3.750297</th>\n",
       "    <th>0.457575</th>\n",
       "  </tr>\n",
       "  <tr>\n",
       "\n",
       "  </tr>\n",
       "</table>\n"
      ],
      "text/plain": [
       "<IPython.core.display.HTML object>"
      ]
     },
     "metadata": {},
     "output_type": "display_data"
    }
   ],
   "source": [
    "learn.fit_one_cycle(1, 1e-3, moms=(0.8,0.7))"
   ]
  },
  {
   "cell_type": "code",
   "execution_count": 55,
   "metadata": {},
   "outputs": [],
   "source": [
    "learn.save('whit_head')"
   ]
  },
  {
   "cell_type": "code",
   "execution_count": 56,
   "metadata": {},
   "outputs": [],
   "source": [
    "learn.load('whit_head');"
   ]
  },
  {
   "cell_type": "markdown",
   "metadata": {},
   "source": [
    "To complete the fine-tuning, we can then unfeeze and launch a new training."
   ]
  },
  {
   "cell_type": "code",
   "execution_count": 35,
   "metadata": {},
   "outputs": [
    {
     "data": {
      "text/html": [
       "Total time: 40:21 <p><table style='width:300px; margin-bottom:10px'>\n",
       "  <tr>\n",
       "    <th>epoch</th>\n",
       "    <th>train_loss</th>\n",
       "    <th>valid_loss</th>\n",
       "    <th>accuracy</th>\n",
       "  </tr>\n",
       "  <tr>\n",
       "    <th>1</th>\n",
       "    <th>0.872967</th>\n",
       "    <th>3.777957</th>\n",
       "    <th>0.457651</th>\n",
       "  </tr>\n",
       "  <tr>\n",
       "    <th>2</th>\n",
       "    <th>0.877892</th>\n",
       "    <th>3.756788</th>\n",
       "    <th>0.460477</th>\n",
       "  </tr>\n",
       "  <tr>\n",
       "    <th>3</th>\n",
       "    <th>0.880070</th>\n",
       "    <th>3.766198</th>\n",
       "    <th>0.457502</th>\n",
       "  </tr>\n",
       "  <tr>\n",
       "    <th>4</th>\n",
       "    <th>0.880906</th>\n",
       "    <th>3.762648</th>\n",
       "    <th>0.459721</th>\n",
       "  </tr>\n",
       "  <tr>\n",
       "    <th>5</th>\n",
       "    <th>0.901820</th>\n",
       "    <th>3.769999</th>\n",
       "    <th>0.458614</th>\n",
       "  </tr>\n",
       "  <tr>\n",
       "    <th>6</th>\n",
       "    <th>0.915218</th>\n",
       "    <th>3.751778</th>\n",
       "    <th>0.459732</th>\n",
       "  </tr>\n",
       "  <tr>\n",
       "    <th>7</th>\n",
       "    <th>0.918561</th>\n",
       "    <th>3.765309</th>\n",
       "    <th>0.458806</th>\n",
       "  </tr>\n",
       "  <tr>\n",
       "    <th>8</th>\n",
       "    <th>0.925346</th>\n",
       "    <th>3.748065</th>\n",
       "    <th>0.457820</th>\n",
       "  </tr>\n",
       "  <tr>\n",
       "    <th>9</th>\n",
       "    <th>0.941944</th>\n",
       "    <th>3.781906</th>\n",
       "    <th>0.454736</th>\n",
       "  </tr>\n",
       "  <tr>\n",
       "    <th>10</th>\n",
       "    <th>0.957599</th>\n",
       "    <th>3.791858</th>\n",
       "    <th>0.456848</th>\n",
       "  </tr>\n",
       "  <tr>\n",
       "    <th>11</th>\n",
       "    <th>0.949790</th>\n",
       "    <th>3.784283</th>\n",
       "    <th>0.455364</th>\n",
       "  </tr>\n",
       "  <tr>\n",
       "    <th>12</th>\n",
       "    <th>0.957379</th>\n",
       "    <th>3.766140</th>\n",
       "    <th>0.456722</th>\n",
       "  </tr>\n",
       "  <tr>\n",
       "    <th>13</th>\n",
       "    <th>0.958283</th>\n",
       "    <th>3.776297</th>\n",
       "    <th>0.454111</th>\n",
       "  </tr>\n",
       "  <tr>\n",
       "    <th>14</th>\n",
       "    <th>0.950064</th>\n",
       "    <th>3.825039</th>\n",
       "    <th>0.456917</th>\n",
       "  </tr>\n",
       "  <tr>\n",
       "    <th>15</th>\n",
       "    <th>0.952845</th>\n",
       "    <th>3.783466</th>\n",
       "    <th>0.455870</th>\n",
       "  </tr>\n",
       "  <tr>\n",
       "    <th>16</th>\n",
       "    <th>0.941899</th>\n",
       "    <th>3.801965</th>\n",
       "    <th>0.457115</th>\n",
       "  </tr>\n",
       "  <tr>\n",
       "    <th>17</th>\n",
       "    <th>0.941528</th>\n",
       "    <th>3.808117</th>\n",
       "    <th>0.456241</th>\n",
       "  </tr>\n",
       "  <tr>\n",
       "    <th>18</th>\n",
       "    <th>0.942246</th>\n",
       "    <th>3.808133</th>\n",
       "    <th>0.454899</th>\n",
       "  </tr>\n",
       "  <tr>\n",
       "    <th>19</th>\n",
       "    <th>0.917593</th>\n",
       "    <th>3.765562</th>\n",
       "    <th>0.454262</th>\n",
       "  </tr>\n",
       "  <tr>\n",
       "    <th>20</th>\n",
       "    <th>0.930725</th>\n",
       "    <th>3.773833</th>\n",
       "    <th>0.457087</th>\n",
       "  </tr>\n",
       "  <tr>\n",
       "    <th>21</th>\n",
       "    <th>0.910058</th>\n",
       "    <th>3.771964</th>\n",
       "    <th>0.459377</th>\n",
       "  </tr>\n",
       "  <tr>\n",
       "    <th>22</th>\n",
       "    <th>0.912683</th>\n",
       "    <th>3.764993</th>\n",
       "    <th>0.458254</th>\n",
       "  </tr>\n",
       "  <tr>\n",
       "    <th>23</th>\n",
       "    <th>0.903404</th>\n",
       "    <th>3.763652</th>\n",
       "    <th>0.455788</th>\n",
       "  </tr>\n",
       "  <tr>\n",
       "    <th>24</th>\n",
       "    <th>0.899399</th>\n",
       "    <th>3.726351</th>\n",
       "    <th>0.458832</th>\n",
       "  </tr>\n",
       "  <tr>\n",
       "    <th>25</th>\n",
       "    <th>0.906984</th>\n",
       "    <th>3.765895</th>\n",
       "    <th>0.456599</th>\n",
       "  </tr>\n",
       "  <tr>\n",
       "    <th>26</th>\n",
       "    <th>0.891400</th>\n",
       "    <th>3.736526</th>\n",
       "    <th>0.456898</th>\n",
       "  </tr>\n",
       "  <tr>\n",
       "    <th>27</th>\n",
       "    <th>0.898183</th>\n",
       "    <th>3.725651</th>\n",
       "    <th>0.460270</th>\n",
       "  </tr>\n",
       "  <tr>\n",
       "    <th>28</th>\n",
       "    <th>0.867221</th>\n",
       "    <th>3.731970</th>\n",
       "    <th>0.458297</th>\n",
       "  </tr>\n",
       "  <tr>\n",
       "    <th>29</th>\n",
       "    <th>0.877492</th>\n",
       "    <th>3.742121</th>\n",
       "    <th>0.458597</th>\n",
       "  </tr>\n",
       "  <tr>\n",
       "    <th>30</th>\n",
       "    <th>0.867170</th>\n",
       "    <th>3.731205</th>\n",
       "    <th>0.460039</th>\n",
       "  </tr>\n",
       "  <tr>\n",
       "    <th>31</th>\n",
       "    <th>0.874801</th>\n",
       "    <th>3.742550</th>\n",
       "    <th>0.459004</th>\n",
       "  </tr>\n",
       "  <tr>\n",
       "    <th>32</th>\n",
       "    <th>0.845771</th>\n",
       "    <th>3.739821</th>\n",
       "    <th>0.458797</th>\n",
       "  </tr>\n",
       "  <tr>\n",
       "    <th>33</th>\n",
       "    <th>0.853550</th>\n",
       "    <th>3.717291</th>\n",
       "    <th>0.460434</th>\n",
       "  </tr>\n",
       "  <tr>\n",
       "    <th>34</th>\n",
       "    <th>0.861217</th>\n",
       "    <th>3.737805</th>\n",
       "    <th>0.458476</th>\n",
       "  </tr>\n",
       "  <tr>\n",
       "    <th>35</th>\n",
       "    <th>0.844095</th>\n",
       "    <th>3.732952</th>\n",
       "    <th>0.458815</th>\n",
       "  </tr>\n",
       "  <tr>\n",
       "    <th>36</th>\n",
       "    <th>0.858118</th>\n",
       "    <th>3.734214</th>\n",
       "    <th>0.459205</th>\n",
       "  </tr>\n",
       "  <tr>\n",
       "    <th>37</th>\n",
       "    <th>0.849473</th>\n",
       "    <th>3.733541</th>\n",
       "    <th>0.459123</th>\n",
       "  </tr>\n",
       "  <tr>\n",
       "    <th>38</th>\n",
       "    <th>0.833300</th>\n",
       "    <th>3.732235</th>\n",
       "    <th>0.460596</th>\n",
       "  </tr>\n",
       "  <tr>\n",
       "    <th>39</th>\n",
       "    <th>0.838991</th>\n",
       "    <th>3.729657</th>\n",
       "    <th>0.459894</th>\n",
       "  </tr>\n",
       "  <tr>\n",
       "    <th>40</th>\n",
       "    <th>0.842036</th>\n",
       "    <th>3.733460</th>\n",
       "    <th>0.459705</th>\n",
       "  </tr>\n",
       "  <tr>\n",
       "\n",
       "  </tr>\n",
       "</table>\n"
      ],
      "text/plain": [
       "<IPython.core.display.HTML object>"
      ]
     },
     "metadata": {},
     "output_type": "display_data"
    }
   ],
   "source": [
    "learn.fit_one_cycle(40, 1e-3, moms=(0.8,0.7))"
   ]
  },
  {
   "cell_type": "code",
   "execution_count": 36,
   "metadata": {},
   "outputs": [],
   "source": [
    "learn.save('whit5')"
   ]
  },
  {
   "cell_type": "code",
   "execution_count": 59,
   "metadata": {},
   "outputs": [],
   "source": [
    "learn.load('whit5');"
   ]
  },
  {
   "cell_type": "code",
   "execution_count": 101,
   "metadata": {},
   "outputs": [
    {
     "data": {
      "text/html": [
       "Total time: 03:36 <p>"
      ],
      "text/plain": [
       "<IPython.core.display.HTML object>"
      ]
     },
     "metadata": {},
     "output_type": "display_data"
    },
    {
     "data": {
      "text/html": [
       "Total time: 03:34 <p>"
      ],
      "text/plain": [
       "<IPython.core.display.HTML object>"
      ]
     },
     "metadata": {},
     "output_type": "display_data"
    },
    {
     "data": {
      "text/html": [
       "Total time: 03:34 <p>"
      ],
      "text/plain": [
       "<IPython.core.display.HTML object>"
      ]
     },
     "metadata": {},
     "output_type": "display_data"
    },
    {
     "data": {
      "text/html": [
       "Total time: 03:38 <p>"
      ],
      "text/plain": [
       "<IPython.core.display.HTML object>"
      ]
     },
     "metadata": {},
     "output_type": "display_data"
    },
    {
     "data": {
      "text/html": [
       "Total time: 03:38 <p>"
      ],
      "text/plain": [
       "<IPython.core.display.HTML object>"
      ]
     },
     "metadata": {},
     "output_type": "display_data"
    },
    {
     "data": {
      "text/html": [
       "Total time: 03:35 <p>"
      ],
      "text/plain": [
       "<IPython.core.display.HTML object>"
      ]
     },
     "metadata": {},
     "output_type": "display_data"
    },
    {
     "data": {
      "text/plain": [
       "6"
      ]
     },
     "execution_count": 101,
     "metadata": {},
     "output_type": "execute_result"
    }
   ],
   "source": [
    "# first text\n",
    "first_string = learn.predict('Come', 2000, temperature=1.1, min_p=0.001) \n",
    "\n",
    "dict_of_texts = {'Come': first_string}\n",
    "for i in range(0,5):\n",
    "    a = random.randint(1,1999)\n",
    "    csv_string = learn.predict(first_string[a], 2000, temperature=1.1, min_p=0.001)\n",
    "    dict_of_texts[a] = csv_string\n",
    "len(dict_of_texts)"
   ]
  },
  {
   "cell_type": "code",
   "execution_count": 102,
   "metadata": {},
   "outputs": [
    {
     "data": {
      "text/plain": [
       "\" off - man 's first to the xxup iii , xxbos xxmaj states ! but many a little black we know not out of the world of the first - 2 xxbos xxmaj god and i know who has the same under the two together , xxbos xxmaj \""
      ]
     },
     "execution_count": 102,
     "metadata": {},
     "output_type": "execute_result"
    }
   ],
   "source": [
    "final_string = '## Chapter 1 \\n'\n",
    "i = 2\n",
    "for key, value in dict_of_texts.items():\n",
    "    final_string += value + ' \\n'\n",
    "    final_string += '## Chapter ' + str(i) + ' \\n'\n",
    "    i += 1\n",
    "final_string[1990:2200]"
   ]
  },
  {
   "cell_type": "code",
   "execution_count": 103,
   "metadata": {},
   "outputs": [],
   "source": [
    "words = final_string.split()\n",
    "for i, word in enumerate(words):\n",
    "    if word == 'xxbos':\n",
    "        words[i] = '\\n' #replace with <br/> in web app\n",
    "    elif word == 'xxmaj':\n",
    "        try:\n",
    "            words[i+1] = words[i+1][0].upper() + words[i+1][1:]\n",
    "            words[i] = ''\n",
    "        except:\n",
    "            continue\n",
    "    elif word == 'xxup':\n",
    "        try:\n",
    "            words[i+1] = words[i+1].upper()\n",
    "            words[i] = ''\n",
    "        except:\n",
    "            continue            \n",
    "    elif word == 'xxunk' or word == '(' or word == ')' or word == '\"':\n",
    "        words[i] = ''   \n",
    "    elif word == ',':\n",
    "        words[i] = ''\n",
    "    elif word == '.' or word == '?' or word == '!' or word == ';':\n",
    "        words[i-1]+= words[i]\n",
    "        words[i] = ''\n",
    "    elif word[0] == \"'\":\n",
    "        words[i-1]+= words[i]\n",
    "        words[i] = ''   \n",
    "#print(' '.join(words))"
   ]
  },
  {
   "cell_type": "code",
   "execution_count": 104,
   "metadata": {},
   "outputs": [],
   "source": [
    "import csv\n",
    "with open('whitman_output.csv','w') as file:\n",
    "    for line in ' '.join(words):\n",
    "        file.write(line)"
   ]
  },
  {
   "cell_type": "markdown",
   "metadata": {},
   "source": [
    "## For Inference"
   ]
  },
  {
   "cell_type": "code",
   "execution_count": 9,
   "metadata": {},
   "outputs": [],
   "source": [
    "data_lm_whitman = TextLMDataBunch.load(path, 'data_lm_whitman');"
   ]
  },
  {
   "cell_type": "code",
   "execution_count": 44,
   "metadata": {},
   "outputs": [],
   "source": [
    "# create a blank csv to create an empty data bunch for your web app. Be sure to load in your language model vocabulary.\n",
    "data_bunch = (TextList.from_csv(path, csv_name='blank.csv', vocab=data_lm_whitman.vocab)\n",
    "    .random_split_by_pct()\n",
    "    .label_for_lm()\n",
    "    .databunch(bs=10))"
   ]
  },
  {
   "cell_type": "code",
   "execution_count": 10,
   "metadata": {},
   "outputs": [],
   "source": [
    "learn = language_model_learner(data_bunch, pretrained_model=None)"
   ]
  },
  {
   "cell_type": "code",
   "execution_count": 11,
   "metadata": {},
   "outputs": [],
   "source": [
    "learn.load('whit5');"
   ]
  },
  {
   "cell_type": "code",
   "execution_count": null,
   "metadata": {},
   "outputs": [],
   "source": []
  }
 ],
 "metadata": {
  "kernelspec": {
   "display_name": "Python 3",
   "language": "python",
   "name": "python3"
  },
  "language_info": {
   "codemirror_mode": {
    "name": "ipython",
    "version": 3
   },
   "file_extension": ".py",
   "mimetype": "text/x-python",
   "name": "python",
   "nbconvert_exporter": "python",
   "pygments_lexer": "ipython3",
   "version": "3.7.0"
  }
 },
 "nbformat": 4,
 "nbformat_minor": 2
}
